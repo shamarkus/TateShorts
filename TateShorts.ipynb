{
  "nbformat": 4,
  "nbformat_minor": 0,
  "metadata": {
    "colab": {
      "provenance": []
    },
    "kernelspec": {
      "name": "python3",
      "display_name": "Python 3"
    },
    "language_info": {
      "name": "python"
    },
    "gpuClass": "standard"
  },
  "cells": [
    {
      "cell_type": "markdown",
      "source": [
        "# Imports"
      ],
      "metadata": {
        "id": "WeCUDqRssoQy"
      }
    },
    {
      "cell_type": "code",
      "source": [
        "!pip install youtube_dl\n",
        "!pip install pytube\n",
        "!pip install deepspeech\n",
        "!pip install ffmpeg\n",
        "!pip install srt\n",
        "\n",
        "!git clone https://github.com/XniceCraft/ffmpeg-colab.git\n",
        "!chmod +x ./ffmpeg-colab/install\n",
        "!./ffmpeg-colab/install"
      ],
      "metadata": {
        "colab": {
          "base_uri": "https://localhost:8080/"
        },
        "id": "lBjlXA4QVpOM",
        "outputId": "dab0fff9-0f82-424f-eb94-34431622dc0b"
      },
      "execution_count": 18,
      "outputs": [
        {
          "output_type": "stream",
          "name": "stdout",
          "text": [
            "Looking in indexes: https://pypi.org/simple, https://us-python.pkg.dev/colab-wheels/public/simple/\n",
            "Requirement already satisfied: youtube_dl in /usr/local/lib/python3.8/dist-packages (2021.12.17)\n",
            "Looking in indexes: https://pypi.org/simple, https://us-python.pkg.dev/colab-wheels/public/simple/\n",
            "Requirement already satisfied: pytube in /usr/local/lib/python3.8/dist-packages (12.1.2)\n",
            "Looking in indexes: https://pypi.org/simple, https://us-python.pkg.dev/colab-wheels/public/simple/\n",
            "Collecting deepspeech\n",
            "  Downloading deepspeech-0.9.3-cp38-cp38-manylinux1_x86_64.whl (9.2 MB)\n",
            "\u001b[K     |████████████████████████████████| 9.2 MB 24.9 MB/s \n",
            "\u001b[?25hRequirement already satisfied: numpy>=1.17.3 in /usr/local/lib/python3.8/dist-packages (from deepspeech) (1.21.6)\n",
            "Installing collected packages: deepspeech\n",
            "Successfully installed deepspeech-0.9.3\n",
            "Looking in indexes: https://pypi.org/simple, https://us-python.pkg.dev/colab-wheels/public/simple/\n",
            "Collecting ffmpeg\n",
            "  Downloading ffmpeg-1.4.tar.gz (5.1 kB)\n",
            "Building wheels for collected packages: ffmpeg\n",
            "  Building wheel for ffmpeg (setup.py) ... \u001b[?25l\u001b[?25hdone\n",
            "  Created wheel for ffmpeg: filename=ffmpeg-1.4-py3-none-any.whl size=6084 sha256=1cd9245d41b347beada9c1d1723525235b3397e23455ebd04da1169b6f4d89cd\n",
            "  Stored in directory: /root/.cache/pip/wheels/30/33/46/5ab7eca55b9490dddbf3441c68a29535996270ef1ce8b9b6d7\n",
            "Successfully built ffmpeg\n",
            "Installing collected packages: ffmpeg\n",
            "Successfully installed ffmpeg-1.4\n",
            "Looking in indexes: https://pypi.org/simple, https://us-python.pkg.dev/colab-wheels/public/simple/\n",
            "Collecting srt\n",
            "  Downloading srt-3.5.2.tar.gz (24 kB)\n",
            "Building wheels for collected packages: srt\n",
            "  Building wheel for srt (setup.py) ... \u001b[?25l\u001b[?25hdone\n",
            "  Created wheel for srt: filename=srt-3.5.2-py3-none-any.whl size=22487 sha256=6608ac73c8f6b23b2a98dad3e32bb1a2cd598f72ef7666026da71203e7577901\n",
            "  Stored in directory: /root/.cache/pip/wheels/90/d5/90/2c5207a2aa1613bff020121ce21fe165a40d9422dbe5eef6e8\n",
            "Successfully built srt\n",
            "Installing collected packages: srt\n",
            "Successfully installed srt-3.5.2\n"
          ]
        }
      ]
    },
    {
      "cell_type": "code",
      "source": [
        "import requests\n",
        "import os, sys\n",
        "import urllib.request\n",
        "import re\n",
        "import subprocess\n",
        "import shlex\n",
        "import random\n",
        "import deepspeech\n",
        "import ffmpeg\n",
        "import srt\n",
        "import numpy as np\n",
        "\n",
        "from datetime import datetime\n",
        "from pytube import YouTube"
      ],
      "metadata": {
        "id": "B1Wwg2lMsmMJ"
      },
      "execution_count": 23,
      "outputs": []
    },
    {
      "cell_type": "markdown",
      "source": [
        "# Downloading"
      ],
      "metadata": {
        "id": "qWA4TG4fXb00"
      }
    },
    {
      "cell_type": "code",
      "source": [
        "def downloadBackground(URLs):\n",
        "  for url in URLs:\n",
        "    yt = YouTube(url)\n",
        "    title = yt.title.replace(\" \",\"-\")\n",
        "    if os.path.exists('/content/' + title + '.mp4'):\n",
        "      print(\"Background \" + title + \" --> Already Downloaded\")\n",
        "    else:\n",
        "      video_stream = yt.streams.filter(file_extension='mp4').get_highest_resolution()\n",
        "      video_stream.download(filename=title + '.mp4')\n",
        "      getMutedBackground('/content/' + title + '.mp4')   \n",
        "      print(\"Background \" + title + \" --> Successfully Downloaded\")"
      ],
      "metadata": {
        "id": "27FtfP1nlgm-"
      },
      "execution_count": 3,
      "outputs": []
    },
    {
      "cell_type": "code",
      "source": [
        "def downloadMP4FromURL(video_url,video_name):\n",
        "  # Send an HTTP GET request to the URL\n",
        "  response = requests.get(video_url)\n",
        "\n",
        "  # Check the status code of the response\n",
        "  if response.status_code == 200:\n",
        "    # Write the content of the response to a file\n",
        "    dir = '/content/' + video_name.split('.mp4')[0]\n",
        "    os.makedirs(dir)\n",
        "    with open(dir + '/' + video_name, 'wb') as f:\n",
        "        f.write(response.content)\n",
        "        print('Video Succesfully Downloaded')\n",
        "  else:\n",
        "    print('Failed to download video')\n"
      ],
      "metadata": {
        "id": "Np90A1iSpCVo"
      },
      "execution_count": 4,
      "outputs": []
    },
    {
      "cell_type": "code",
      "source": [
        "def getDOMTree(link_url,video_name):\n",
        "\n",
        "  if os.path.exists('/content/' + video_name.split('.mp4')[0]):\n",
        "    print('Video Already Downloaded')\n",
        "  else:\n",
        "    #HAVE TO MASK AS USER SO DOMAIN DOESN'T RECOGNIZE WEB SCRAPER\n",
        "    HEADERS = {'User-Agent': 'Mozilla/5.0 (iPad; CPU OS 12_2 like Mac OS X) AppleWebKit/605.1.15 (KHTML, like Gecko) Mobile/15E148'}\n",
        "    r = requests.get(link_url,headers=HEADERS)\n",
        "    index = r.text.find('contentUrl')\n",
        "\n",
        "    if index != -1:\n",
        "      # Get the line that contains the string by slicing the text\n",
        "      line = r.text[index:].split('\\n')[0]\n",
        "      match = re.search(r'contentUrl\": \"(.+?)\"', line)\n",
        "\n",
        "      # Check if a match was found\n",
        "      if match:\n",
        "        # Get the URL from the match object\n",
        "        url = match.group(1)\n",
        "        downloadMP4FromURL(url,video_name)\n",
        "      else:\n",
        "        print('URL not found')\n",
        "    else:\n",
        "      print('String not found')"
      ],
      "metadata": {
        "id": "OKpYNhoRAdxI"
      },
      "execution_count": 5,
      "outputs": []
    },
    {
      "cell_type": "code",
      "source": [
        "def fix_timestamp(timestamp):\n",
        "  # Use a regular expression to check if the timestamp starts with '00:'\n",
        "  if not re.match(r'^00:', timestamp):\n",
        "    # If the timestamp does not start with '00:', add it to the beginning\n",
        "    timestamp = '00:' + timestamp\n",
        "  return timestamp + '.000'"
      ],
      "metadata": {
        "id": "MM_EwkxSCFd9"
      },
      "execution_count": 6,
      "outputs": []
    },
    {
      "cell_type": "markdown",
      "source": [
        "# Cropping"
      ],
      "metadata": {
        "id": "pYvcZIdkF-na"
      }
    },
    {
      "cell_type": "code",
      "source": [
        "def cropVideo(video_name, backgroundPath):\n",
        "\n",
        "  outputPath = '/content/' + video_name.split('.mp4')[0]\n",
        "  inputFile = outputPath + '/' + video_name\n",
        "\n",
        "  startTime = input(\"Enter Start Timestamp: \")\n",
        "  endTime = input(\"Enter End Timestamp: \")\n",
        "  fileName = startTime + '-' + endTime + '.mp4'\n",
        "\n",
        "  startTime = fix_timestamp(startTime)\n",
        "  endTime = fix_timestamp(endTime)\n",
        "\n",
        "  # 20 represents the quality/filesize ratio. 0 is best quality. 51 is worst quality.\n",
        "  command = ['ffmpeg', '-i', inputFile, '-copyinkf', '-ss', startTime, '-to', endTime, '-vf', 'scale=1080:960,setsar=9/16', '-c:v', 'libx264', '-crf', '20', '-c:a', 'copy', f'{outputPath}/tateClip.mp4']\n",
        "  subprocess.run(command)\n",
        "\n",
        "  backgroundLength = getSeconds(getVideoLength(backgroundPath)[0])\n",
        "  vidLength = getSeconds(getVideoLength(f'{outputPath}/tateClip.mp4')[0])\n",
        "  \n",
        "  backgroundStart = getRandomNumber(30, backgroundLength - vidLength - 30)\n",
        "\n",
        "  command = ['ffmpeg', '-i', backgroundPath, '-copyinkf', '-ss', getHHMMSS(backgroundStart), '-to', getHHMMSS(backgroundStart + vidLength), '-vf', 'scale=1080:960,setsar=9/16', '-c:v', 'libx264', '-crf', '20', '-c:a', 'copy', '/content/background.mp4']\n",
        "  subprocess.run(command)\n",
        "\n",
        "  #ffmpeg -i top.mp4 -i bottom.mp4 -filter_complex \"[0:v]scale=iw:ih/2[top];[1:v]scale=iw:ih/2[bottom];[top][bottom]vstack,setdar=9/16,format=yuv420p\" -c:v libx264 -crf 20 output.mp4\n",
        "\n",
        "  # Fix this\n",
        "  command = [\n",
        "      \"ffmpeg\",\n",
        "      \"-i\",\n",
        "      f'{outputPath}/tateClip.mp4',\n",
        "      \"-i\",\n",
        "      '/content/background.mp4',\n",
        "      \"-filter_complex\",\n",
        "      \"[0:v]scale=iw:ih/2[top];[1:v]scale=iw:ih/2[bottom];[top][bottom]vstack,setdar=9/16,format=yuv420p\",\n",
        "      \"-c:v\",\n",
        "      \"libx264\",\n",
        "      \"-crf\",\n",
        "      \"20\",\n",
        "      f'{outputPath}/{fileName}'\n",
        "  ]\n",
        "  subprocess.run(command)\n",
        "\n",
        "  # os.remove(f'{outputPath}/tateClip.mp4')\n",
        "  os.remove('/content/background.mp4')\n",
        "\n",
        "  return outputPath, f'{outputPath}/{fileName}'"
      ],
      "metadata": {
        "id": "QvXxEr5BEOwb"
      },
      "execution_count": 16,
      "outputs": []
    },
    {
      "cell_type": "code",
      "source": [
        "def getVideoLength(video_path):\n",
        "  command = \"ffmpeg -i \" + video_path + \" 2>&1 | grep 'Duration' | cut -d ' ' -f 4 | sed s/,//\"\n",
        "  try:\n",
        "    stdout = !{command}\n",
        "    return stdout\n",
        "  except:\n",
        "    print(\"getVideoLength failed\")\n",
        "  # Get the duration of the video from the command output"
      ],
      "metadata": {
        "id": "eSkOjWovq_D7"
      },
      "execution_count": 8,
      "outputs": []
    },
    {
      "cell_type": "code",
      "source": [
        "def getMutedBackground(video_path):\n",
        "  muted_video_path = '/content/muted.mp4'\n",
        "  command = \"ffmpeg -i \" + video_path + \" -c copy -an -y \" + muted_video_path\n",
        "  print(command)\n",
        "  try:\n",
        "    !{command}\n",
        "    os.remove(video_path)\n",
        "    os.rename(muted_video_path,video_path)  \n",
        "  except:\n",
        "    print(\"getMutedBackground failed\")"
      ],
      "metadata": {
        "id": "dcG1Mi4uDEid"
      },
      "execution_count": 9,
      "outputs": []
    },
    {
      "cell_type": "code",
      "source": [
        "def getSeconds(timestamp):\n",
        "  dt = datetime.strptime(timestamp, \"%H:%M:%S.%f\")\n",
        "  return dt.hour*3600 + dt.minute*60 + dt.second"
      ],
      "metadata": {
        "id": "95wiYOV353lC"
      },
      "execution_count": 10,
      "outputs": []
    },
    {
      "cell_type": "code",
      "source": [
        "def getHHMMSS(timestamp):\n",
        "  dt = datetime.utcfromtimestamp(int(timestamp))\n",
        "  return dt.strftime('%H:%M:%S') + '.000'"
      ],
      "metadata": {
        "id": "xT86DHCTD2ys"
      },
      "execution_count": 11,
      "outputs": []
    },
    {
      "cell_type": "code",
      "source": [
        "def getRandomNumber(a, b):\n",
        "  # Get a random integer between a and b (inclusive)\n",
        "  return random.randint(a, b)"
      ],
      "metadata": {
        "id": "uLUst1wfAY-j"
      },
      "execution_count": 12,
      "outputs": []
    },
    {
      "cell_type": "markdown",
      "source": [
        "# User Action Required"
      ],
      "metadata": {
        "id": "ZmANcieENzZ7"
      }
    },
    {
      "cell_type": "code",
      "source": [
        "#@title Video Game Backgrounds\n",
        "\n",
        "# Concatenate background Youtube links to this array\n",
        "URLs = ['https://youtu.be/9NgBLirYQS8']\n",
        "downloadBackground(URLs)"
      ],
      "metadata": {
        "colab": {
          "base_uri": "https://localhost:8080/"
        },
        "id": "0R49RCKlmpyW",
        "outputId": "35185a8d-8475-4a2e-801a-69ab098d6bba"
      },
      "execution_count": 13,
      "outputs": [
        {
          "output_type": "stream",
          "name": "stdout",
          "text": [
            "ffmpeg -i /content/Forza-Horizon-4-DRIVING-LIKE-A-BOSS!!-1876HP-RTR-Mustang.mp4 -c copy -an -y /content/muted.mp4\n",
            "ffmpeg version 5.0 Copyright (c) 2000-2022 the FFmpeg developers\n",
            "  built with gcc 7 (Ubuntu 7.5.0-3ubuntu1~18.04)\n",
            "  configuration: --prefix=/content/build --pkg-config-flags=--static --extra-cflags=-I/content/build/include --extra-ldflags=-L/content/build/lib --extra-libs='-lpthread -lm -lgomp' --ld=g++ --bindir=/content/build/bin --disable-ffplay --disable-ffprobe --disable-doc --disable-htmlpages --disable-manpages --disable-podpages --disable-txtpages --enable-version3 --enable-gpl --enable-nonfree --enable-opencl --enable-opengl --disable-shared --enable-static --enable-libaom --enable-libass --enable-libbluray --enable-libdav1d --enable-libfdk-aac --enable-libfontconfig --enable-libfreetype --enable-libfribidi --enable-libkvazaar --enable-libmp3lame --enable-libopencore-amrnb --enable-libopencore-amrwb --enable-libopenh264 --enable-libopenjpeg --enable-libopus --enable-libshine --enable-libsoxr --enable-libsrt --enable-libvidstab --enable-libvmaf --enable-libvorbis --enable-libvpx --enable-libwebp --enable-libx264 --enable-libx265 --enable-libxvid --enable-libzimg --enable-zlib --enable-openssl --enable-cuvid --enable-ffnvcodec --enable-nvdec --enable-nvenc --enable-pthreads\n",
            "  libavutil      57. 17.100 / 57. 17.100\n",
            "  libavcodec     59. 18.100 / 59. 18.100\n",
            "  libavformat    59. 16.100 / 59. 16.100\n",
            "  libavdevice    59.  4.100 / 59.  4.100\n",
            "  libavfilter     8. 24.100 /  8. 24.100\n",
            "  libswscale      6.  4.100 /  6.  4.100\n",
            "  libswresample   4.  3.100 /  4.  3.100\n",
            "  libpostproc    56.  3.100 / 56.  3.100\n",
            "Input #0, mov,mp4,m4a,3gp,3g2,mj2, from '/content/Forza-Horizon-4-DRIVING-LIKE-A-BOSS!!-1876HP-RTR-Mustang.mp4':\n",
            "  Metadata:\n",
            "    major_brand     : mp42\n",
            "    minor_version   : 0\n",
            "    compatible_brands: isommp42\n",
            "    creation_time   : 2020-01-05T18:04:54.000000Z\n",
            "  Duration: 00:06:09.71, start: 0.000000, bitrate: 2263 kb/s\n",
            "  Stream #0:0[0x1](und): Video: h264 (Main) (avc1 / 0x31637661), yuv420p(tv, bt709, progressive), 1280x720 [SAR 1:1 DAR 16:9], 2131 kb/s, 30 fps, 30 tbr, 15360 tbn (default)\n",
            "    Metadata:\n",
            "      creation_time   : 2020-01-05T18:04:54.000000Z\n",
            "      handler_name    : ISO Media file produced by Google Inc. Created on: 01/05/2020.\n",
            "      vendor_id       : [0][0][0][0]\n",
            "  Stream #0:1[0x2](eng): Audio: aac (LC) (mp4a / 0x6134706D), 44100 Hz, stereo, fltp, 127 kb/s (default)\n",
            "    Metadata:\n",
            "      creation_time   : 2020-01-05T18:04:54.000000Z\n",
            "      handler_name    : ISO Media file produced by Google Inc. Created on: 01/05/2020.\n",
            "      vendor_id       : [0][0][0][0]\n",
            "Output #0, mp4, to '/content/muted.mp4':\n",
            "  Metadata:\n",
            "    major_brand     : mp42\n",
            "    minor_version   : 0\n",
            "    compatible_brands: isommp42\n",
            "    encoder         : Lavf59.16.100\n",
            "  Stream #0:0(und): Video: h264 (Main) (avc1 / 0x31637661), yuv420p(tv, bt709, progressive), 1280x720 [SAR 1:1 DAR 16:9], q=2-31, 2131 kb/s, 30 fps, 30 tbr, 15360 tbn (default)\n",
            "    Metadata:\n",
            "      creation_time   : 2020-01-05T18:04:54.000000Z\n",
            "      handler_name    : ISO Media file produced by Google Inc. Created on: 01/05/2020.\n",
            "      vendor_id       : [0][0][0][0]\n",
            "Stream mapping:\n",
            "  Stream #0:0 -> #0:0 (copy)\n",
            "Press [q] to stop, [?] for help\n",
            "frame=    1 fps=0.0 q=-1.0 size=       0kB time=-00:00:00.03 bitrate=N/A speed=N/A    \rframe=11091 fps=0.0 q=-1.0 Lsize=   96323kB time=00:06:09.63 bitrate=2134.8kbits/s speed=1.43e+03x    \n",
            "video:96205kB audio:0kB subtitle:0kB other streams:0kB global headers:0kB muxing overhead: 0.122282%\n",
            "Background Forza-Horizon-4-DRIVING-LIKE-A-BOSS!!-1876HP-RTR-Mustang --> Successfully Downloaded\n"
          ]
        }
      ]
    },
    {
      "cell_type": "code",
      "source": [
        "#@title URL Input\n",
        "# https://odysee.com/@tatespeech:c/superbike-vs-supercar:1\n",
        "link_url = input(\"Enter Odysee Link URL: \")\n",
        "backgroundPath = '/content/Forza-Horizon-4-DRIVING-LIKE-A-BOSS!!-1876HP-RTR-Mustang.mp4'"
      ],
      "metadata": {
        "colab": {
          "base_uri": "https://localhost:8080/"
        },
        "id": "cVkVq5LgstYt",
        "outputId": "70a05525-2b0a-470a-b39d-c5ba3772c4a7"
      },
      "execution_count": 14,
      "outputs": [
        {
          "name": "stdout",
          "output_type": "stream",
          "text": [
            "Enter Odysee Link URL: https://odysee.com/@tatespeech:c/superbike-vs-supercar:1\n"
          ]
        }
      ]
    },
    {
      "cell_type": "code",
      "source": [
        "#@title User Actions From URL Input\n",
        "video_name = link_url.rsplit('/',1)[-1] + '.mp4'\n",
        "\n",
        "# Downloads the correspondent Andrew Tate video\n",
        "# Creates a repository, and stores .mp4 file\n",
        "# If already downloaded, then skipped\n",
        "getDOMTree(link_url,video_name)\n",
        "\n",
        "# Crops both the background .mp4, and the Andrew Tate .mp4. Vertically concatenates them to be 9:16.\n",
        "# Returns filepath of the video that contains the conjoined background .mp4 + Tate .mp4\n",
        "clipDir, clipPath = cropVideo(video_name,backgroundPath)\n",
        "\n",
        "# Create subtitles with AI\n",
        "audioToSubtitles(clipDir)\n"
      ],
      "metadata": {
        "colab": {
          "base_uri": "https://localhost:8080/",
          "height": 433
        },
        "id": "Zs0nm4TVH6mu",
        "outputId": "aee5e8be-4903-4d55-bb0f-15b847ec92b7"
      },
      "execution_count": 25,
      "outputs": [
        {
          "name": "stdout",
          "output_type": "stream",
          "text": [
            "Video Already Downloaded\n",
            "Enter Start Timestamp: 02:20\n",
            "Enter End Timestamp: 02:30\n"
          ]
        },
        {
          "output_type": "error",
          "ename": "KeyboardInterrupt",
          "evalue": "ignored",
          "traceback": [
            "\u001b[0;31m---------------------------------------------------------------------------\u001b[0m",
            "\u001b[0;31mKeyboardInterrupt\u001b[0m                         Traceback (most recent call last)",
            "\u001b[0;32m<ipython-input-25-60d8d550c862>\u001b[0m in \u001b[0;36m<module>\u001b[0;34m\u001b[0m\n\u001b[1;32m      9\u001b[0m \u001b[0;31m# Crops both the background .mp4, and the Andrew Tate .mp4. Vertically concatenates them to be 9:16.\u001b[0m\u001b[0;34m\u001b[0m\u001b[0;34m\u001b[0m\u001b[0;34m\u001b[0m\u001b[0m\n\u001b[1;32m     10\u001b[0m \u001b[0;31m# Returns filepath of the video that contains the conjoined background .mp4 + Tate .mp4\u001b[0m\u001b[0;34m\u001b[0m\u001b[0;34m\u001b[0m\u001b[0;34m\u001b[0m\u001b[0m\n\u001b[0;32m---> 11\u001b[0;31m \u001b[0mclipDir\u001b[0m\u001b[0;34m,\u001b[0m \u001b[0mclipPath\u001b[0m \u001b[0;34m=\u001b[0m \u001b[0mcropVideo\u001b[0m\u001b[0;34m(\u001b[0m\u001b[0mvideo_name\u001b[0m\u001b[0;34m,\u001b[0m\u001b[0mbackgroundPath\u001b[0m\u001b[0;34m)\u001b[0m\u001b[0;34m\u001b[0m\u001b[0;34m\u001b[0m\u001b[0m\n\u001b[0m\u001b[1;32m     12\u001b[0m \u001b[0;34m\u001b[0m\u001b[0m\n\u001b[1;32m     13\u001b[0m \u001b[0;31m# Create subtitles with AI\u001b[0m\u001b[0;34m\u001b[0m\u001b[0;34m\u001b[0m\u001b[0;34m\u001b[0m\u001b[0m\n",
            "\u001b[0;32m<ipython-input-16-103241f203f0>\u001b[0m in \u001b[0;36mcropVideo\u001b[0;34m(video_name, backgroundPath)\u001b[0m\n\u001b[1;32m     21\u001b[0m \u001b[0;34m\u001b[0m\u001b[0m\n\u001b[1;32m     22\u001b[0m   \u001b[0mcommand\u001b[0m \u001b[0;34m=\u001b[0m \u001b[0;34m[\u001b[0m\u001b[0;34m'ffmpeg'\u001b[0m\u001b[0;34m,\u001b[0m \u001b[0;34m'-i'\u001b[0m\u001b[0;34m,\u001b[0m \u001b[0mbackgroundPath\u001b[0m\u001b[0;34m,\u001b[0m \u001b[0;34m'-copyinkf'\u001b[0m\u001b[0;34m,\u001b[0m \u001b[0;34m'-ss'\u001b[0m\u001b[0;34m,\u001b[0m \u001b[0mgetHHMMSS\u001b[0m\u001b[0;34m(\u001b[0m\u001b[0mbackgroundStart\u001b[0m\u001b[0;34m)\u001b[0m\u001b[0;34m,\u001b[0m \u001b[0;34m'-to'\u001b[0m\u001b[0;34m,\u001b[0m \u001b[0mgetHHMMSS\u001b[0m\u001b[0;34m(\u001b[0m\u001b[0mbackgroundStart\u001b[0m \u001b[0;34m+\u001b[0m \u001b[0mvidLength\u001b[0m\u001b[0;34m)\u001b[0m\u001b[0;34m,\u001b[0m \u001b[0;34m'-vf'\u001b[0m\u001b[0;34m,\u001b[0m \u001b[0;34m'scale=1080:960,setsar=9/16'\u001b[0m\u001b[0;34m,\u001b[0m \u001b[0;34m'-c:v'\u001b[0m\u001b[0;34m,\u001b[0m \u001b[0;34m'libx264'\u001b[0m\u001b[0;34m,\u001b[0m \u001b[0;34m'-crf'\u001b[0m\u001b[0;34m,\u001b[0m \u001b[0;34m'20'\u001b[0m\u001b[0;34m,\u001b[0m \u001b[0;34m'-c:a'\u001b[0m\u001b[0;34m,\u001b[0m \u001b[0;34m'copy'\u001b[0m\u001b[0;34m,\u001b[0m \u001b[0;34m'/content/background.mp4'\u001b[0m\u001b[0;34m]\u001b[0m\u001b[0;34m\u001b[0m\u001b[0;34m\u001b[0m\u001b[0m\n\u001b[0;32m---> 23\u001b[0;31m   \u001b[0msubprocess\u001b[0m\u001b[0;34m.\u001b[0m\u001b[0mrun\u001b[0m\u001b[0;34m(\u001b[0m\u001b[0mcommand\u001b[0m\u001b[0;34m)\u001b[0m\u001b[0;34m\u001b[0m\u001b[0;34m\u001b[0m\u001b[0m\n\u001b[0m\u001b[1;32m     24\u001b[0m \u001b[0;34m\u001b[0m\u001b[0m\n\u001b[1;32m     25\u001b[0m   \u001b[0;31m#ffmpeg -i top.mp4 -i bottom.mp4 -filter_complex \"[0:v]scale=iw:ih/2[top];[1:v]scale=iw:ih/2[bottom];[top][bottom]vstack,setdar=9/16,format=yuv420p\" -c:v libx264 -crf 20 output.mp4\u001b[0m\u001b[0;34m\u001b[0m\u001b[0;34m\u001b[0m\u001b[0;34m\u001b[0m\u001b[0m\n",
            "\u001b[0;32m/usr/lib/python3.8/subprocess.py\u001b[0m in \u001b[0;36mrun\u001b[0;34m(input, capture_output, timeout, check, *popenargs, **kwargs)\u001b[0m\n\u001b[1;32m    493\u001b[0m     \u001b[0;32mwith\u001b[0m \u001b[0mPopen\u001b[0m\u001b[0;34m(\u001b[0m\u001b[0;34m*\u001b[0m\u001b[0mpopenargs\u001b[0m\u001b[0;34m,\u001b[0m \u001b[0;34m**\u001b[0m\u001b[0mkwargs\u001b[0m\u001b[0;34m)\u001b[0m \u001b[0;32mas\u001b[0m \u001b[0mprocess\u001b[0m\u001b[0;34m:\u001b[0m\u001b[0;34m\u001b[0m\u001b[0;34m\u001b[0m\u001b[0m\n\u001b[1;32m    494\u001b[0m         \u001b[0;32mtry\u001b[0m\u001b[0;34m:\u001b[0m\u001b[0;34m\u001b[0m\u001b[0;34m\u001b[0m\u001b[0m\n\u001b[0;32m--> 495\u001b[0;31m             \u001b[0mstdout\u001b[0m\u001b[0;34m,\u001b[0m \u001b[0mstderr\u001b[0m \u001b[0;34m=\u001b[0m \u001b[0mprocess\u001b[0m\u001b[0;34m.\u001b[0m\u001b[0mcommunicate\u001b[0m\u001b[0;34m(\u001b[0m\u001b[0minput\u001b[0m\u001b[0;34m,\u001b[0m \u001b[0mtimeout\u001b[0m\u001b[0;34m=\u001b[0m\u001b[0mtimeout\u001b[0m\u001b[0;34m)\u001b[0m\u001b[0;34m\u001b[0m\u001b[0;34m\u001b[0m\u001b[0m\n\u001b[0m\u001b[1;32m    496\u001b[0m         \u001b[0;32mexcept\u001b[0m \u001b[0mTimeoutExpired\u001b[0m \u001b[0;32mas\u001b[0m \u001b[0mexc\u001b[0m\u001b[0;34m:\u001b[0m\u001b[0;34m\u001b[0m\u001b[0;34m\u001b[0m\u001b[0m\n\u001b[1;32m    497\u001b[0m             \u001b[0mprocess\u001b[0m\u001b[0;34m.\u001b[0m\u001b[0mkill\u001b[0m\u001b[0;34m(\u001b[0m\u001b[0;34m)\u001b[0m\u001b[0;34m\u001b[0m\u001b[0;34m\u001b[0m\u001b[0m\n",
            "\u001b[0;32m/usr/lib/python3.8/subprocess.py\u001b[0m in \u001b[0;36mcommunicate\u001b[0;34m(self, input, timeout)\u001b[0m\n\u001b[1;32m   1018\u001b[0m                 \u001b[0mstderr\u001b[0m \u001b[0;34m=\u001b[0m \u001b[0mself\u001b[0m\u001b[0;34m.\u001b[0m\u001b[0mstderr\u001b[0m\u001b[0;34m.\u001b[0m\u001b[0mread\u001b[0m\u001b[0;34m(\u001b[0m\u001b[0;34m)\u001b[0m\u001b[0;34m\u001b[0m\u001b[0;34m\u001b[0m\u001b[0m\n\u001b[1;32m   1019\u001b[0m                 \u001b[0mself\u001b[0m\u001b[0;34m.\u001b[0m\u001b[0mstderr\u001b[0m\u001b[0;34m.\u001b[0m\u001b[0mclose\u001b[0m\u001b[0;34m(\u001b[0m\u001b[0;34m)\u001b[0m\u001b[0;34m\u001b[0m\u001b[0;34m\u001b[0m\u001b[0m\n\u001b[0;32m-> 1020\u001b[0;31m             \u001b[0mself\u001b[0m\u001b[0;34m.\u001b[0m\u001b[0mwait\u001b[0m\u001b[0;34m(\u001b[0m\u001b[0;34m)\u001b[0m\u001b[0;34m\u001b[0m\u001b[0;34m\u001b[0m\u001b[0m\n\u001b[0m\u001b[1;32m   1021\u001b[0m         \u001b[0;32melse\u001b[0m\u001b[0;34m:\u001b[0m\u001b[0;34m\u001b[0m\u001b[0;34m\u001b[0m\u001b[0m\n\u001b[1;32m   1022\u001b[0m             \u001b[0;32mif\u001b[0m \u001b[0mtimeout\u001b[0m \u001b[0;32mis\u001b[0m \u001b[0;32mnot\u001b[0m \u001b[0;32mNone\u001b[0m\u001b[0;34m:\u001b[0m\u001b[0;34m\u001b[0m\u001b[0;34m\u001b[0m\u001b[0m\n",
            "\u001b[0;32m/usr/lib/python3.8/subprocess.py\u001b[0m in \u001b[0;36mwait\u001b[0;34m(self, timeout)\u001b[0m\n\u001b[1;32m   1081\u001b[0m             \u001b[0mendtime\u001b[0m \u001b[0;34m=\u001b[0m \u001b[0m_time\u001b[0m\u001b[0;34m(\u001b[0m\u001b[0;34m)\u001b[0m \u001b[0;34m+\u001b[0m \u001b[0mtimeout\u001b[0m\u001b[0;34m\u001b[0m\u001b[0;34m\u001b[0m\u001b[0m\n\u001b[1;32m   1082\u001b[0m         \u001b[0;32mtry\u001b[0m\u001b[0;34m:\u001b[0m\u001b[0;34m\u001b[0m\u001b[0;34m\u001b[0m\u001b[0m\n\u001b[0;32m-> 1083\u001b[0;31m             \u001b[0;32mreturn\u001b[0m \u001b[0mself\u001b[0m\u001b[0;34m.\u001b[0m\u001b[0m_wait\u001b[0m\u001b[0;34m(\u001b[0m\u001b[0mtimeout\u001b[0m\u001b[0;34m=\u001b[0m\u001b[0mtimeout\u001b[0m\u001b[0;34m)\u001b[0m\u001b[0;34m\u001b[0m\u001b[0;34m\u001b[0m\u001b[0m\n\u001b[0m\u001b[1;32m   1084\u001b[0m         \u001b[0;32mexcept\u001b[0m \u001b[0mKeyboardInterrupt\u001b[0m\u001b[0;34m:\u001b[0m\u001b[0;34m\u001b[0m\u001b[0;34m\u001b[0m\u001b[0m\n\u001b[1;32m   1085\u001b[0m             \u001b[0;31m# https://bugs.python.org/issue25942\u001b[0m\u001b[0;34m\u001b[0m\u001b[0;34m\u001b[0m\u001b[0;34m\u001b[0m\u001b[0m\n",
            "\u001b[0;32m/usr/lib/python3.8/subprocess.py\u001b[0m in \u001b[0;36m_wait\u001b[0;34m(self, timeout)\u001b[0m\n\u001b[1;32m   1804\u001b[0m                         \u001b[0;32mif\u001b[0m \u001b[0mself\u001b[0m\u001b[0;34m.\u001b[0m\u001b[0mreturncode\u001b[0m \u001b[0;32mis\u001b[0m \u001b[0;32mnot\u001b[0m \u001b[0;32mNone\u001b[0m\u001b[0;34m:\u001b[0m\u001b[0;34m\u001b[0m\u001b[0;34m\u001b[0m\u001b[0m\n\u001b[1;32m   1805\u001b[0m                             \u001b[0;32mbreak\u001b[0m  \u001b[0;31m# Another thread waited.\u001b[0m\u001b[0;34m\u001b[0m\u001b[0;34m\u001b[0m\u001b[0m\n\u001b[0;32m-> 1806\u001b[0;31m                         \u001b[0;34m(\u001b[0m\u001b[0mpid\u001b[0m\u001b[0;34m,\u001b[0m \u001b[0msts\u001b[0m\u001b[0;34m)\u001b[0m \u001b[0;34m=\u001b[0m \u001b[0mself\u001b[0m\u001b[0;34m.\u001b[0m\u001b[0m_try_wait\u001b[0m\u001b[0;34m(\u001b[0m\u001b[0;36m0\u001b[0m\u001b[0;34m)\u001b[0m\u001b[0;34m\u001b[0m\u001b[0;34m\u001b[0m\u001b[0m\n\u001b[0m\u001b[1;32m   1807\u001b[0m                         \u001b[0;31m# Check the pid and loop as waitpid has been known to\u001b[0m\u001b[0;34m\u001b[0m\u001b[0;34m\u001b[0m\u001b[0;34m\u001b[0m\u001b[0m\n\u001b[1;32m   1808\u001b[0m                         \u001b[0;31m# return 0 even without WNOHANG in odd situations.\u001b[0m\u001b[0;34m\u001b[0m\u001b[0;34m\u001b[0m\u001b[0;34m\u001b[0m\u001b[0m\n",
            "\u001b[0;32m/usr/lib/python3.8/subprocess.py\u001b[0m in \u001b[0;36m_try_wait\u001b[0;34m(self, wait_flags)\u001b[0m\n\u001b[1;32m   1762\u001b[0m             \u001b[0;34m\"\"\"All callers to this function MUST hold self._waitpid_lock.\"\"\"\u001b[0m\u001b[0;34m\u001b[0m\u001b[0;34m\u001b[0m\u001b[0m\n\u001b[1;32m   1763\u001b[0m             \u001b[0;32mtry\u001b[0m\u001b[0;34m:\u001b[0m\u001b[0;34m\u001b[0m\u001b[0;34m\u001b[0m\u001b[0m\n\u001b[0;32m-> 1764\u001b[0;31m                 \u001b[0;34m(\u001b[0m\u001b[0mpid\u001b[0m\u001b[0;34m,\u001b[0m \u001b[0msts\u001b[0m\u001b[0;34m)\u001b[0m \u001b[0;34m=\u001b[0m \u001b[0mos\u001b[0m\u001b[0;34m.\u001b[0m\u001b[0mwaitpid\u001b[0m\u001b[0;34m(\u001b[0m\u001b[0mself\u001b[0m\u001b[0;34m.\u001b[0m\u001b[0mpid\u001b[0m\u001b[0;34m,\u001b[0m \u001b[0mwait_flags\u001b[0m\u001b[0;34m)\u001b[0m\u001b[0;34m\u001b[0m\u001b[0;34m\u001b[0m\u001b[0m\n\u001b[0m\u001b[1;32m   1765\u001b[0m             \u001b[0;32mexcept\u001b[0m \u001b[0mChildProcessError\u001b[0m\u001b[0;34m:\u001b[0m\u001b[0;34m\u001b[0m\u001b[0;34m\u001b[0m\u001b[0m\n\u001b[1;32m   1766\u001b[0m                 \u001b[0;31m# This happens if SIGCLD is set to be ignored or waiting\u001b[0m\u001b[0;34m\u001b[0m\u001b[0;34m\u001b[0m\u001b[0;34m\u001b[0m\u001b[0m\n",
            "\u001b[0;31mKeyboardInterrupt\u001b[0m: "
          ]
        }
      ]
    },
    {
      "cell_type": "markdown",
      "source": [
        "# AI-Generated Subtitles"
      ],
      "metadata": {
        "id": "I0JHBEhXNpDX"
      }
    },
    {
      "cell_type": "code",
      "source": [
        "audioToSubtitles('/content/superbike-vs-supercar:1')"
      ],
      "metadata": {
        "colab": {
          "base_uri": "https://localhost:8080/",
          "height": 433
        },
        "id": "aMl_ohmCVZgL",
        "outputId": "a941e4ad-5dd7-4aeb-ce00-4d7ab2104a30"
      },
      "execution_count": 27,
      "outputs": [
        {
          "output_type": "error",
          "ename": "RuntimeError",
          "evalue": "ignored",
          "traceback": [
            "\u001b[0;31m---------------------------------------------------------------------------\u001b[0m",
            "\u001b[0;31mRuntimeError\u001b[0m                              Traceback (most recent call last)",
            "\u001b[0;32m<ipython-input-27-2364212b518e>\u001b[0m in \u001b[0;36m<module>\u001b[0;34m\u001b[0m\n\u001b[0;32m----> 1\u001b[0;31m \u001b[0maudioToSubtitles\u001b[0m\u001b[0;34m(\u001b[0m\u001b[0;34m'/content/superbike-vs-supercar:1'\u001b[0m\u001b[0;34m)\u001b[0m\u001b[0;34m\u001b[0m\u001b[0;34m\u001b[0m\u001b[0m\n\u001b[0m",
            "\u001b[0;32m<ipython-input-26-9f1599206eae>\u001b[0m in \u001b[0;36maudioToSubtitles\u001b[0;34m(clipDir)\u001b[0m\n\u001b[1;32m      4\u001b[0m \u001b[0;34m\u001b[0m\u001b[0m\n\u001b[1;32m      5\u001b[0m   \u001b[0;31m# Load the DeepSpeech model\u001b[0m\u001b[0;34m\u001b[0m\u001b[0;34m\u001b[0m\u001b[0;34m\u001b[0m\u001b[0m\n\u001b[0;32m----> 6\u001b[0;31m   \u001b[0mmodel\u001b[0m \u001b[0;34m=\u001b[0m \u001b[0mdeepspeech\u001b[0m\u001b[0;34m.\u001b[0m\u001b[0mModel\u001b[0m\u001b[0;34m(\u001b[0m\u001b[0mmodel_path\u001b[0m \u001b[0;34m+\u001b[0m \u001b[0;34m\"/output_graph.pbmm\"\u001b[0m\u001b[0;34m)\u001b[0m\u001b[0;34m\u001b[0m\u001b[0;34m\u001b[0m\u001b[0m\n\u001b[0m\u001b[1;32m      7\u001b[0m \u001b[0;34m\u001b[0m\u001b[0m\n\u001b[1;32m      8\u001b[0m   \u001b[0;31m# Set the beam width for the decoder\u001b[0m\u001b[0;34m\u001b[0m\u001b[0;34m\u001b[0m\u001b[0;34m\u001b[0m\u001b[0m\n",
            "\u001b[0;32m/usr/local/lib/python3.8/dist-packages/deepspeech/__init__.py\u001b[0m in \u001b[0;36m__init__\u001b[0;34m(self, model_path)\u001b[0m\n\u001b[1;32m     36\u001b[0m         \u001b[0mstatus\u001b[0m\u001b[0;34m,\u001b[0m \u001b[0mimpl\u001b[0m \u001b[0;34m=\u001b[0m \u001b[0mdeepspeech\u001b[0m\u001b[0;34m.\u001b[0m\u001b[0mimpl\u001b[0m\u001b[0;34m.\u001b[0m\u001b[0mCreateModel\u001b[0m\u001b[0;34m(\u001b[0m\u001b[0mmodel_path\u001b[0m\u001b[0;34m)\u001b[0m\u001b[0;34m\u001b[0m\u001b[0;34m\u001b[0m\u001b[0m\n\u001b[1;32m     37\u001b[0m         \u001b[0;32mif\u001b[0m \u001b[0mstatus\u001b[0m \u001b[0;34m!=\u001b[0m \u001b[0;36m0\u001b[0m\u001b[0;34m:\u001b[0m\u001b[0;34m\u001b[0m\u001b[0;34m\u001b[0m\u001b[0m\n\u001b[0;32m---> 38\u001b[0;31m             \u001b[0;32mraise\u001b[0m \u001b[0mRuntimeError\u001b[0m\u001b[0;34m(\u001b[0m\u001b[0;34m\"CreateModel failed with '{}' (0x{:X})\"\u001b[0m\u001b[0;34m.\u001b[0m\u001b[0mformat\u001b[0m\u001b[0;34m(\u001b[0m\u001b[0mdeepspeech\u001b[0m\u001b[0;34m.\u001b[0m\u001b[0mimpl\u001b[0m\u001b[0;34m.\u001b[0m\u001b[0mErrorCodeToErrorMessage\u001b[0m\u001b[0;34m(\u001b[0m\u001b[0mstatus\u001b[0m\u001b[0;34m)\u001b[0m\u001b[0;34m,\u001b[0m\u001b[0mstatus\u001b[0m\u001b[0;34m)\u001b[0m\u001b[0;34m)\u001b[0m\u001b[0;34m\u001b[0m\u001b[0;34m\u001b[0m\u001b[0m\n\u001b[0m\u001b[1;32m     39\u001b[0m         \u001b[0mself\u001b[0m\u001b[0;34m.\u001b[0m\u001b[0m_impl\u001b[0m \u001b[0;34m=\u001b[0m \u001b[0mimpl\u001b[0m\u001b[0;34m\u001b[0m\u001b[0;34m\u001b[0m\u001b[0m\n\u001b[1;32m     40\u001b[0m \u001b[0;34m\u001b[0m\u001b[0m\n",
            "\u001b[0;31mRuntimeError\u001b[0m: CreateModel failed with 'Failed to initialize memory mapped model.' (0x3000)"
          ]
        }
      ]
    },
    {
      "cell_type": "code",
      "source": [
        "def audioToSubtitles(clipDir):\n",
        "  # Set the path to the DeepSpeech model files\n",
        "  model_path = \"/path/to/deepspeech-0.9.3-models\"\n",
        "\n",
        "  # Load the DeepSpeech model\n",
        "  model = deepspeech.Model(model_path + \"/output_graph.pbmm\")\n",
        "\n",
        "  # Set the beam width for the decoder\n",
        "  beam_width = 500\n",
        "\n",
        "  # Load the alphabet file\n",
        "  alphabet_path = model_path + \"/alphabet.txt\"\n",
        "  with open(alphabet_path, \"r\") as alphabet_file:\n",
        "      alphabet = alphabet_file.read()\n",
        "\n",
        "  # Set the language code\n",
        "  language_code = \"en-US\"\n",
        "\n",
        "  # Set the name of the input audio file\n",
        "  audio_file = clipDir + '/tateClip.mp4'\n",
        "\n",
        "  # Set the name of the output subtitle file\n",
        "  subtitle_file = clipDir + '/subtitles.srt'\n",
        "\n",
        "  # Extract the audio from the video file using FFmpeg\n",
        "  audio_stream, _ = (\n",
        "      ffmpeg\n",
        "      .input(audio_file)\n",
        "      .output(\"pipe:\", format=\"s16le\", acodec=\"pcm_s16le\", ac=1, ar=\"16k\")\n",
        "      .run(capture_stdout=True)\n",
        "  )\n",
        "\n",
        "  # Convert the audio stream to a NumPy array\n",
        "  audio = np.frombuffer(audio_stream, np.int16)\n",
        "\n",
        "  # Transcribe the audio using DeepSpeech\n",
        "  transcription = model.stt(audio, beam_width, language_code, alphabet)\n",
        "\n",
        "  # Split the transcription into segments based on the timing of the audio\n",
        "  segments = []\n",
        "\n",
        "  # Set the duration of each segment (in seconds)\n",
        "  segment_duration = 10\n",
        "\n",
        "  # Set the start time of the first segment\n",
        "  start_time = 0\n",
        "\n",
        "  # Set the end time of the first segment\n",
        "  end_time = start_time + segment_duration\n",
        "\n",
        "  # Split the transcription into segments\n",
        "  while start_time < len(audio) / 16000:\n",
        "      # Get the text for the current segment\n",
        "      segment_text = transcription[start_time:end_time]\n",
        "\n",
        "      # Add the segment to the list of segments\n",
        "      segments.append(segment_text)\n",
        "\n",
        "      # Set the start time of the next segment\n",
        "      start_time = end_time\n",
        "\n",
        "      # Set the end time of the next segment\n",
        "      end_time = start_time + segment_duration\n",
        "\n",
        "  # Create a list of SRT entries\n",
        "  entries = []\n",
        "\n",
        "  # Set the start time of the first entry\n",
        "  start_time = 0\n",
        "\n",
        "  # Set the end time of the first entry\n",
        "  end_time = segment_duration\n",
        "\n",
        "  # Create SRT entries for each segment\n",
        "  for segment in segments:\n",
        "      # Create a new SRT entry\n",
        "      entry = srt.Subtitle()\n",
        "\n",
        "      # Set the start and end times of the entry\n",
        "      entry.start = start_time\n",
        "      entry.end = end_time\n",
        "\n",
        "      # Set the text of the entry\n",
        "      entry.content = segment\n",
        "\n",
        "      # Add the entry to the list of entries\n",
        "      entries.append(entry)\n",
        "\n",
        "      # Set the start time of the next entry\n",
        "      start_time = end_time\n",
        "\n",
        "      # Set the end time of the next entry\n",
        "      end_time = start_time + segment_duration\n",
        "\n",
        "  # Save the entries to the output file\n",
        "  with open(subtitle_file, \"w\") as subtitle_file:\n",
        "      subtitle_file.write(srt.compose(entries))"
      ],
      "metadata": {
        "id": "eKk1XMknNmYH"
      },
      "execution_count": 26,
      "outputs": []
    },
    {
      "cell_type": "code",
      "source": [],
      "metadata": {
        "id": "8kIixzJLVcMl"
      },
      "execution_count": null,
      "outputs": []
    }
  ]
}