{
  "nbformat": 4,
  "nbformat_minor": 0,
  "metadata": {
    "colab": {
      "provenance": []
    },
    "kernelspec": {
      "name": "python3",
      "display_name": "Python 3"
    },
    "language_info": {
      "name": "python"
    },
    "accelerator": "GPU",
    "gpuClass": "standard"
  },
  "cells": [
    {
      "cell_type": "markdown",
      "source": [
        "# Imports"
      ],
      "metadata": {
        "id": "WeCUDqRssoQy"
      }
    },
    {
      "cell_type": "code",
      "source": [
        "!pip install youtube_dl\n",
        "!pip install pytube\n",
        "!git clone https://github.com/XniceCraft/ffmpeg-colab.git\n",
        "!chmod +x ./ffmpeg-colab/install\n",
        "!./ffmpeg-colab/install"
      ],
      "metadata": {
        "colab": {
          "base_uri": "https://localhost:8080/"
        },
        "id": "lBjlXA4QVpOM",
        "outputId": "b254185c-c64e-4057-bcd9-c0f454c03955"
      },
      "execution_count": 1,
      "outputs": [
        {
          "output_type": "stream",
          "name": "stdout",
          "text": [
            "Looking in indexes: https://pypi.org/simple, https://us-python.pkg.dev/colab-wheels/public/simple/\n",
            "Collecting youtube_dl\n",
            "  Downloading youtube_dl-2021.12.17-py2.py3-none-any.whl (1.9 MB)\n",
            "\u001b[K     |████████████████████████████████| 1.9 MB 33.3 MB/s \n",
            "\u001b[?25hInstalling collected packages: youtube-dl\n",
            "Successfully installed youtube-dl-2021.12.17\n",
            "Looking in indexes: https://pypi.org/simple, https://us-python.pkg.dev/colab-wheels/public/simple/\n",
            "Collecting pytube\n",
            "  Downloading pytube-12.1.2-py3-none-any.whl (57 kB)\n",
            "\u001b[K     |████████████████████████████████| 57 kB 5.3 MB/s \n",
            "\u001b[?25hInstalling collected packages: pytube\n",
            "Successfully installed pytube-12.1.2\n",
            "Cloning into 'ffmpeg-colab'...\n",
            "remote: Enumerating objects: 28, done.\u001b[K\n",
            "remote: Counting objects: 100% (14/14), done.\u001b[K\n",
            "remote: Compressing objects: 100% (14/14), done.\u001b[K\n",
            "remote: Total 28 (delta 6), reused 0 (delta 0), pack-reused 14\u001b[K\n",
            "Unpacking objects: 100% (28/28), done.\n",
            "FFmpeg was found at /usr/bin/ffmpeg\n",
            "Removing old FFmpeg\n",
            "Done\n",
            "Moving new ffmpeg to /usr/bin\n",
            "FFmpeg was successfully installed\n"
          ]
        }
      ]
    },
    {
      "cell_type": "code",
      "source": [
        "import requests\n",
        "import os, sys\n",
        "import urllib.request\n",
        "import re\n",
        "import subprocess\n",
        "import shlex\n",
        "import random\n",
        "from datetime import datetime\n",
        "from pytube import YouTube"
      ],
      "metadata": {
        "id": "B1Wwg2lMsmMJ"
      },
      "execution_count": 2,
      "outputs": []
    },
    {
      "cell_type": "markdown",
      "source": [
        "# Downloading"
      ],
      "metadata": {
        "id": "qWA4TG4fXb00"
      }
    },
    {
      "cell_type": "code",
      "source": [
        "def downloadBackground(URLs):\n",
        "  for url in URLs:\n",
        "    yt = YouTube(url)\n",
        "    title = yt.title.replace(\" \",\"-\")\n",
        "    if os.path.exists('/content/' + title + '.mp4'):\n",
        "      print(\"Background \" + title + \" --> Already Downloaded\")\n",
        "    else:\n",
        "      video_stream = yt.streams.filter(file_extension='mp4').get_highest_resolution()\n",
        "      video_stream.download(filename=title + '.mp4')\n",
        "      print(\"Background \" + title + \" --> Successfully Downloaded\")"
      ],
      "metadata": {
        "id": "27FtfP1nlgm-"
      },
      "execution_count": 3,
      "outputs": []
    },
    {
      "cell_type": "code",
      "source": [
        "def downloadMP4FromURL(video_url,video_name):\n",
        "  # Send an HTTP GET request to the URL\n",
        "  response = requests.get(video_url)\n",
        "\n",
        "  # Check the status code of the response\n",
        "  if response.status_code == 200:\n",
        "    # Write the content of the response to a file\n",
        "    dir = '/content/' + video_name.split('.mp4')[0]\n",
        "    os.makedirs(dir)\n",
        "    with open(dir + '/' + video_name, 'wb') as f:\n",
        "        f.write(response.content)\n",
        "        print('Video Succesfully Downloaded')\n",
        "  else:\n",
        "    print('Failed to download video')\n"
      ],
      "metadata": {
        "id": "Np90A1iSpCVo"
      },
      "execution_count": 4,
      "outputs": []
    },
    {
      "cell_type": "code",
      "source": [
        "def getDOMTree(link_url,video_name):\n",
        "\n",
        "  if os.path.exists('/content/' + video_name.split('.mp4')[0]):\n",
        "    print('Video Already Downloaded')\n",
        "  else:\n",
        "    #HAVE TO MASK AS USER SO DOMAIN DOESN'T RECOGNIZE WEB SCRAPER\n",
        "    HEADERS = {'User-Agent': 'Mozilla/5.0 (iPad; CPU OS 12_2 like Mac OS X) AppleWebKit/605.1.15 (KHTML, like Gecko) Mobile/15E148'}\n",
        "    r = requests.get(link_url,headers=HEADERS)\n",
        "    index = r.text.find('contentUrl')\n",
        "\n",
        "    if index != -1:\n",
        "      # Get the line that contains the string by slicing the text\n",
        "      line = r.text[index:].split('\\n')[0]\n",
        "      match = re.search(r'contentUrl\": \"(.+?)\"', line)\n",
        "\n",
        "      # Check if a match was found\n",
        "      if match:\n",
        "        # Get the URL from the match object\n",
        "        url = match.group(1)\n",
        "        downloadMP4FromURL(url,video_name)\n",
        "      else:\n",
        "        print('URL not found')\n",
        "    else:\n",
        "      print('String not found')"
      ],
      "metadata": {
        "id": "OKpYNhoRAdxI"
      },
      "execution_count": 5,
      "outputs": []
    },
    {
      "cell_type": "code",
      "source": [
        "def fix_timestamp(timestamp):\n",
        "  # Use a regular expression to check if the timestamp starts with '00:'\n",
        "  if not re.match(r'^00:', timestamp):\n",
        "    # If the timestamp does not start with '00:', add it to the beginning\n",
        "    timestamp = '00:' + timestamp\n",
        "  return timestamp + '.000'"
      ],
      "metadata": {
        "id": "MM_EwkxSCFd9"
      },
      "execution_count": 6,
      "outputs": []
    },
    {
      "cell_type": "markdown",
      "source": [
        "# Cropping"
      ],
      "metadata": {
        "id": "pYvcZIdkF-na"
      }
    },
    {
      "cell_type": "code",
      "source": [
        "def cropVideo(video_name):\n",
        "\n",
        "  backgroundPath = '/content/ForzaHorizon4DRIVINGLIKEABOSS!!1876HPRTRMustang.mp4'\n",
        "\n",
        "  outputPath = '/content/' + video_name.split('.mp4')[0]\n",
        "  inputFile = outputPath + '/' + video_name\n",
        "\n",
        "  startTime = input(\"Enter Start Timestamp: \")\n",
        "  endTime = input(\"Enter End Timestamp: \")\n",
        "  fileName = startTime + '-' + endTime + '.mp4'\n",
        "\n",
        "  startTime = fix_timestamp(startTime)\n",
        "  endTime = fix_timestamp(endTime)\n",
        "\n",
        "  command = ['ffmpeg', '-i', inputFile, '-copyinkf', '-ss', startTime, '-to', endTime, f'{outputPath}/{fileName}']\n",
        "  subprocess.run(command)\n",
        "\n",
        "  backgroundLength = getSeconds(getVideoLength(backgroundPath)[0])\n",
        "  vidLength = getSeconds(getVideoLength(outputPath + '/' + fileName)[0])\n",
        "  \n",
        "  backgroundStart = getRandomNumber(30, backgroundLength - vidLength - 30)\n",
        "\n",
        "  print(backgroundLength,vidLength,backgroundStart)\n",
        "  command = ['ffmpeg', '-hwaccel', 'cuda', '-i', backgroundPath, '-copyinkf', '-ss', getHHMMSS(backgroundStart), '-to', getHHMMSS(backgroundStart + vidLength), '/content/sample.mp4']\n",
        "  subprocess.run(command)\n",
        "\n",
        "  getMutedBackground('/content/sample.mp4')"
      ],
      "metadata": {
        "id": "QvXxEr5BEOwb"
      },
      "execution_count": 8,
      "outputs": []
    },
    {
      "cell_type": "code",
      "source": [
        "backgroundPath = '/content/Forza-Horizon-4-DRIVING-LIKE-A-BOSS!!-1876HP-RTR-Mustang.mp4'\n",
        "command = ['ffmpeg', '-hwaccel', 'cuda', '-i', backgroundPath, '-copyinkf', '-ss', getHHMMSS(30), '-to', getHHMMSS(40), '/content/sample.mp4']\n",
        "subprocess.run(command)"
      ],
      "metadata": {
        "colab": {
          "base_uri": "https://localhost:8080/"
        },
        "id": "fXpRG03OXrD4",
        "outputId": "f01f7001-1b71-49e1-ec76-5963e9c71646"
      },
      "execution_count": 16,
      "outputs": [
        {
          "output_type": "execute_result",
          "data": {
            "text/plain": [
              "CompletedProcess(args=['ffmpeg', '-hwaccel', 'cuda', '-i', '/content/Forza-Horizon-4-DRIVING-LIKE-A-BOSS!!-1876HP-RTR-Mustang.mp4', '-copyinkf', '-ss', '00:00:30.000', '-to', '00:00:40.000', '/content/sample.mp4'], returncode=0)"
            ]
          },
          "metadata": {},
          "execution_count": 16
        }
      ]
    },
    {
      "cell_type": "code",
      "source": [
        "!ffmpeg -hwaccel cuda -i "
      ],
      "metadata": {
        "id": "_alfUq0QZcQO"
      },
      "execution_count": null,
      "outputs": []
    },
    {
      "cell_type": "code",
      "source": [
        "def getVideoLength(video_path):\n",
        "  command = \"ffmpeg -i \" + video_path + \" 2>&1 | grep 'Duration' | cut -d ' ' -f 4 | sed s/,//\"\n",
        "  try:\n",
        "    stdout = !{command}\n",
        "    return stdout\n",
        "  except:\n",
        "    print(\"getVideoLength failed\")\n",
        "  # Get the duration of the video from the command output"
      ],
      "metadata": {
        "id": "eSkOjWovq_D7"
      },
      "execution_count": 7,
      "outputs": []
    },
    {
      "cell_type": "code",
      "source": [
        "def getMutedBackground(video_path):\n",
        "  muted_video_path = video_path.split('.mp4')[0] + 'Muted.mp4'\n",
        "  command = \"ffmpeg -i \" + video_path + \" -c copy -an -y \" + muted_video_path\n",
        "  try:\n",
        "    !{command}\n",
        "  except:\n",
        "    print(\"getMutedBackground failed\")"
      ],
      "metadata": {
        "id": "dcG1Mi4uDEid"
      },
      "execution_count": 9,
      "outputs": []
    },
    {
      "cell_type": "code",
      "source": [
        "def getSeconds(timestamp):\n",
        "  dt = datetime.strptime(timestamp, \"%H:%M:%S.%f\")\n",
        "  return dt.hour*3600 + dt.minute*60 + dt.second"
      ],
      "metadata": {
        "id": "95wiYOV353lC"
      },
      "execution_count": 10,
      "outputs": []
    },
    {
      "cell_type": "code",
      "source": [
        "def getHHMMSS(timestamp):\n",
        "  dt = datetime.utcfromtimestamp(int(timestamp))\n",
        "  return dt.strftime('%H:%M:%S') + '.000'"
      ],
      "metadata": {
        "id": "xT86DHCTD2ys"
      },
      "execution_count": 11,
      "outputs": []
    },
    {
      "cell_type": "code",
      "source": [
        "def getRandomNumber(a, b):\n",
        "  # Get a random integer between a and b (inclusive)\n",
        "  return random.randint(a, b)"
      ],
      "metadata": {
        "id": "uLUst1wfAY-j"
      },
      "execution_count": 12,
      "outputs": []
    },
    {
      "cell_type": "code",
      "source": [
        "#@title Video Game Backgrounds\n",
        "URLs = ['https://youtu.be/9NgBLirYQS8']\n",
        "downloadBackground(URLs)"
      ],
      "metadata": {
        "colab": {
          "base_uri": "https://localhost:8080/"
        },
        "id": "0R49RCKlmpyW",
        "outputId": "743783ee-e313-40c0-cdcc-070fea45b1f8"
      },
      "execution_count": 13,
      "outputs": [
        {
          "output_type": "stream",
          "name": "stdout",
          "text": [
            "Background Forza-Horizon-4-DRIVING-LIKE-A-BOSS!!-1876HP-RTR-Mustang --> Successfully Downloaded\n"
          ]
        }
      ]
    },
    {
      "cell_type": "code",
      "source": [
        "#@title URL Input\n",
        "# https://odysee.com/@tatespeech:c/superbike-vs-supercar:1\n",
        "link_url = input(\"Enter Odysee Link URL: \")\n",
        "video_name = link_url.rsplit('/',1)[-1] + '.mp4'"
      ],
      "metadata": {
        "colab": {
          "base_uri": "https://localhost:8080/"
        },
        "id": "cVkVq5LgstYt",
        "outputId": "64d31cab-91bb-4b8f-e0f4-daf2e1618601"
      },
      "execution_count": 64,
      "outputs": [
        {
          "name": "stdout",
          "output_type": "stream",
          "text": [
            "Enter Odysee Link URL: https://odysee.com/@tatespeech:c/superbike-vs-supercar:1\n"
          ]
        }
      ]
    },
    {
      "cell_type": "code",
      "source": [
        "#@title User Actions From URL Input\n",
        "getDOMTree(link_url,video_name)\n",
        "cropVideo(video_name)"
      ],
      "metadata": {
        "colab": {
          "base_uri": "https://localhost:8080/"
        },
        "id": "Zs0nm4TVH6mu",
        "outputId": "ef79a373-3b54-4da8-e08e-13798e7bfabe"
      },
      "execution_count": 95,
      "outputs": [
        {
          "output_type": "stream",
          "name": "stdout",
          "text": [
            "Video Already Downloaded\n",
            "Enter Start Timestamp: 02:30\n",
            "Enter End Timestamp: 02:40\n",
            "369 10 240\n",
            "ffmpeg version 5.0 Copyright (c) 2000-2022 the FFmpeg developers\n",
            "  built with gcc 7 (Ubuntu 7.5.0-3ubuntu1~18.04)\n",
            "  configuration: --prefix=/content/build --pkg-config-flags=--static --extra-cflags=-I/content/build/include --extra-ldflags=-L/content/build/lib --extra-libs='-lpthread -lm -lgomp' --ld=g++ --bindir=/content/build/bin --disable-ffplay --disable-ffprobe --disable-doc --disable-htmlpages --disable-manpages --disable-podpages --disable-txtpages --enable-version3 --enable-gpl --enable-nonfree --enable-opencl --enable-opengl --disable-shared --enable-static --enable-libaom --enable-libass --enable-libbluray --enable-libdav1d --enable-libfdk-aac --enable-libfontconfig --enable-libfreetype --enable-libfribidi --enable-libkvazaar --enable-libmp3lame --enable-libopencore-amrnb --enable-libopencore-amrwb --enable-libopenh264 --enable-libopenjpeg --enable-libopus --enable-libshine --enable-libsoxr --enable-libsrt --enable-libvidstab --enable-libvmaf --enable-libvorbis --enable-libvpx --enable-libwebp --enable-libx264 --enable-libx265 --enable-libxvid --enable-libzimg --enable-zlib --enable-openssl --enable-cuvid --enable-ffnvcodec --enable-nvdec --enable-nvenc --enable-pthreads\n",
            "  libavutil      57. 17.100 / 57. 17.100\n",
            "  libavcodec     59. 18.100 / 59. 18.100\n",
            "  libavformat    59. 16.100 / 59. 16.100\n",
            "  libavdevice    59.  4.100 / 59.  4.100\n",
            "  libavfilter     8. 24.100 /  8. 24.100\n",
            "  libswscale      6.  4.100 /  6.  4.100\n",
            "  libswresample   4.  3.100 /  4.  3.100\n",
            "  libpostproc    56.  3.100 / 56.  3.100\n",
            "Input #0, mov,mp4,m4a,3gp,3g2,mj2, from '/content/sample.mp4':\n",
            "  Metadata:\n",
            "    major_brand     : isom\n",
            "    minor_version   : 512\n",
            "    compatible_brands: isomiso2avc1mp41\n",
            "    encoder         : Lavf59.16.100\n",
            "  Duration: 00:00:10.00, start: 0.000000, bitrate: 3706 kb/s\n",
            "  Stream #0:0[0x1](und): Video: h264 (High) (avc1 / 0x31637661), yuv420p(tv, bt709, progressive), 1280x720 [SAR 1:1 DAR 16:9], 3568 kb/s, 30 fps, 30 tbr, 15360 tbn (default)\n",
            "    Metadata:\n",
            "      handler_name    : ISO Media file produced by Google Inc. Created on: 01/05/2020.\n",
            "      vendor_id       : [0][0][0][0]\n",
            "  Stream #0:1[0x2](eng): Audio: aac (LC) (mp4a / 0x6134706D), 44100 Hz, stereo, fltp, 127 kb/s (default)\n",
            "    Metadata:\n",
            "      handler_name    : ISO Media file produced by Google Inc. Created on: 01/05/2020.\n",
            "      vendor_id       : [0][0][0][0]\n",
            "Output #0, mp4, to '/content/sampleMuted.mp4':\n",
            "  Metadata:\n",
            "    major_brand     : isom\n",
            "    minor_version   : 512\n",
            "    compatible_brands: isomiso2avc1mp41\n",
            "    encoder         : Lavf59.16.100\n",
            "  Stream #0:0(und): Video: h264 (High) (avc1 / 0x31637661), yuv420p(tv, bt709, progressive), 1280x720 [SAR 1:1 DAR 16:9], q=2-31, 3568 kb/s, 30 fps, 30 tbr, 15360 tbn (default)\n",
            "    Metadata:\n",
            "      handler_name    : ISO Media file produced by Google Inc. Created on: 01/05/2020.\n",
            "      vendor_id       : [0][0][0][0]\n",
            "Stream mapping:\n",
            "  Stream #0:0 -> #0:0 (copy)\n",
            "Press [q] to stop, [?] for help\n",
            "frame=  300 fps=0.0 q=-1.0 Lsize=    4361kB time=00:00:09.90 bitrate=3608.4kbits/s speed=1.33e+03x    \n",
            "video:4356kB audio:0kB subtitle:0kB other streams:0kB global headers:0kB muxing overhead: 0.100944%\n"
          ]
        }
      ]
    }
  ]
}